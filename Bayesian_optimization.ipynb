{
 "cells": [
  {
   "cell_type": "markdown",
   "id": "ff12d3fc",
   "metadata": {},
   "source": [
    "# Bayesian Optimization\n",
    "\n",
    "We seek to optimize a black-box function $f(x)$, where $x \\in \\mathcal{D} \\subset \\mathbb{R}^D$ for some simple domain $\\mathcal{D}$ (e.g. the unit hypercube). Evaluations of the function $f$ do not yield gradient information, and $f$ is typically assumed to be expensive to evaluate. The method of Bayesian optimization (BO) addresses these challenges by placing a prior distribution on $f$, and then iteratively selects input points and at each step updates the distribution on $f$. This distribution is then used to guide the selection of new points. The prior distribution on $f$ is typically a Gaussian process (GP), \n",
    "\n",
    "$$ y(\\cdot) \\sim \\mathcal{GP}(\\mu(\\cdot), k(\\cdot, \\cdot))$$\n",
    "\n",
    "**TODO: include the generic BO algorithm here.**\n",
    "\n",
    "**TODO: need to clarify; at each iteration, are we re-fitting hyperparameters?**\n",
    "\n",
    "We denote the GP conditioned on the first $n$ points as \n",
    "\n",
    "$$ y(\\cdot)|D_n \\sim \\mathcal{GP}(\\mu_n(\\cdot), k_n(\\cdot, \\cdot))$$\n"
   ]
  },
  {
   "cell_type": "markdown",
   "id": "86d20169",
   "metadata": {},
   "source": [
    "# Probability of Improvement\n",
    "\n",
    "A very simple acquisition function is the probability of improvement (PI), which simply selects the next input $x_{n+1}$ to maximize the probability (under the current GP distribution) that $f(x_{n+1})$ is smaller than the current minimum. We denote the current minimum by \n",
    "\n",
    "$$ f^n_{\\text{min}} := \\min\\left\\{f(x_1), \\dots, f(x_n) \\right\\}$$\n",
    "\n",
    "The PI acquisition is thus defined by \n",
    "$$\n",
    "\\begin{align*}\n",
    "a_{PI}(x) &= \\mathbb{P}\\left(y(x) \\leq f^n_{\\text{min}} \\right) \\\\\n",
    "          &= \\int_{-\\infty}^{f^n_{\\text{min}}} \\mathcal{N}(y(x)|\\mu_n(x), k_n(x)) dy(x) \\\\\n",
    "          &= \\Phi\\left(\\frac{f^n_{\\text{min}} - \\mu_n(x)}{\\sqrt{k_n(x)}} \\right)\n",
    "\\end{align*}\n",
    "$$"
   ]
  },
  {
   "cell_type": "code",
   "execution_count": null,
   "id": "dd54eab6",
   "metadata": {},
   "outputs": [],
   "source": [
    "# f (x) = exp(−1.4x) cos(7πx/2)\n",
    "# Objective to try. "
   ]
  }
 ],
 "metadata": {
  "kernelspec": {
   "display_name": "Python 3 (ipykernel)",
   "language": "python",
   "name": "python3"
  },
  "language_info": {
   "codemirror_mode": {
    "name": "ipython",
    "version": 3
   },
   "file_extension": ".py",
   "mimetype": "text/x-python",
   "name": "python",
   "nbconvert_exporter": "python",
   "pygments_lexer": "ipython3",
   "version": "3.7.11"
  }
 },
 "nbformat": 4,
 "nbformat_minor": 5
}
