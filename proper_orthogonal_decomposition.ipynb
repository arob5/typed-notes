{
 "cells": [
  {
   "cell_type": "markdown",
   "id": "3a484bda",
   "metadata": {},
   "source": [
    "# Proper Orthogonal Decomposition\n",
    "The Proper orthogonal decomposition (POD) is simply SVD applied to PDEs. In the atmospheric sciences, it goes by the alternate name of empirical orthogonal functions (EOFs). The POD is a dimensionality reduction technique that is well-suited for generating interpretable spatio-temporal decompositions of data. The POD is a key topic in the field of reduced order modeling (ROM), which seeks to project PDE dynamics onto low-rank subspaces. This results in a \"reduced\" model which approximates the full model and can hopefully be computed much more quickly. "
   ]
  },
  {
   "cell_type": "markdown",
   "id": "1edd1f73",
   "metadata": {},
   "source": [
    "# Setup \n",
    "We consider a generic system of nonlinear PDEs\n",
    "\n",
    "$$\\mathbf{u}_t = f(\\mathbf{u}, \\mathbf{u}_{x}, \\mathbf{u}_{xx}, \\dots, x, t; \\mathbf{\\beta})$$\n",
    "\n",
    "with subscripts denoting partial derivatives, $f$ the non-linear evolution operator, and $\\mathbf{\\beta}$ a vector of parameters. The state of the system at time $t$ and spatial location $x \\in [-L, L]$ is encoded in the vector $\\mathbf{u} = \\mathbf{u}(t, x)$. Although I do not explicitly include them, there are also an associated set of initial and boundary conditions. \n",
    "\n",
    "The nonlinear PDE does not admit analytic solutions in general. The two primary approaches for dealing with this are asymptotic analyses and numerical methods. We focus on the latter here.  "
   ]
  }
 ],
 "metadata": {
  "kernelspec": {
   "display_name": "Python 3 (ipykernel)",
   "language": "python",
   "name": "python3"
  },
  "language_info": {
   "codemirror_mode": {
    "name": "ipython",
    "version": 3
   },
   "file_extension": ".py",
   "mimetype": "text/x-python",
   "name": "python",
   "nbconvert_exporter": "python",
   "pygments_lexer": "ipython3",
   "version": "3.7.11"
  }
 },
 "nbformat": 4,
 "nbformat_minor": 5
}
