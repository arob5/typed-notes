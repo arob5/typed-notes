{
 "cells": [
  {
   "cell_type": "markdown",
   "id": "3312fb88",
   "metadata": {},
   "source": [
    "# Neal's Funnel\n",
    "In this document, I consider some numerical explorations of Neal's Funnel - an example from Radford Neal that has become a classic demonstration of pathological behavior that can be exhibited when trying to sample from posterior distributions defined by Bayesian hierarchical models. \n",
    "\n",
    "To begin, consider that we are modeling some data $x_i$, $i = 1, ..., N$ as Gaussian, with known zero mean and unknown variance. When assigning a prior to the variance, we must ensure that it does not have support on the negative reals. The standard conjugate prior to use for the variance is inverse gamma, but it seems entirely reasonable to consider other distributions supported on the non-negative reals, such as the log-normal distribution. By assuming a log-normal prior $LN(0, 3)$ on the variance, our hierarchical model takes the form\n",
    "$$\n",
    "\\begin{align*}\n",
    "x_i &\\sim N(0, e^{v/2}) \\\\\n",
    "v &\\sim N(0, 3)\n",
    "\\end{align*}\n",
    "$$\n",
    "Note that $e^{v/2}$ is the standard deviation of the distribution, so $e^v$ is the variance. Since $\\log(e^v) = v \\sim N(0, 3)$ the variance does indeed have a log-normal distribution, as desired. The posterior distribution $p(v|x) = p(v|x_1, \\dots, x_N)$ is given by Bayes' rule\n",
    "\\begin{align*}\n",
    "\\log p(v|x) &= \\log p(v) + \\sum_{i = 1}^{N} \\log p(x_i|v) + \\text{constant} \\\\\n",
    "            &= -\\frac{v^2}{18} - \\frac{Nv}{2} - \\frac{1}{2e^v} \\sum_{i = 1}^{N} x_i^2 + \\text{constant}\n",
    "\\end{align*}\n",
    "Neal actually considers sampling from the joint $p(x, v)$ when the number of observations is small ($N = 9$). This model is engineered to intentionally be an extreme case that results in a distribution that proves difficult for MCMC methods. "
   ]
  }
 ],
 "metadata": {
  "kernelspec": {
   "display_name": "Python 3 (ipykernel)",
   "language": "python",
   "name": "python3"
  },
  "language_info": {
   "codemirror_mode": {
    "name": "ipython",
    "version": 3
   },
   "file_extension": ".py",
   "mimetype": "text/x-python",
   "name": "python",
   "nbconvert_exporter": "python",
   "pygments_lexer": "ipython3",
   "version": "3.7.11"
  }
 },
 "nbformat": 4,
 "nbformat_minor": 5
}
